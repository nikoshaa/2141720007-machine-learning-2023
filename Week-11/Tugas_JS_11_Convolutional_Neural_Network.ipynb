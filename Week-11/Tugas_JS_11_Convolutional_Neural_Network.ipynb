{
  "nbformat": 4,
  "nbformat_minor": 0,
  "metadata": {
    "colab": {
      "provenance": [],
      "authorship_tag": "ABX9TyP4AlOkKY1DW/sf7JzZ1EXT",
      "include_colab_link": true
    },
    "kernelspec": {
      "name": "python3",
      "display_name": "Python 3"
    },
    "language_info": {
      "name": "python"
    }
  },
  "cells": [
    {
      "cell_type": "markdown",
      "metadata": {
        "id": "view-in-github",
        "colab_type": "text"
      },
      "source": [
        "<a href=\"https://colab.research.google.com/github/nikoshaa/2141720007-machine-learning-2023/blob/main/Week-11/Tugas_JS_11_Convolutional_Neural_Network.ipynb\" target=\"_parent\"><img src=\"https://colab.research.google.com/assets/colab-badge.svg\" alt=\"Open In Colab\"/></a>"
      ]
    },
    {
      "cell_type": "markdown",
      "source": [
        "**Wildan Hafidz Mauludin**\n",
        "\n",
        "**2141720007**"
      ],
      "metadata": {
        "id": "d7tf-DBrO9v_"
      }
    },
    {
      "cell_type": "markdown",
      "source": [
        "**Tugas**\n",
        "\n",
        "- Modifikasi model CNN pada praktikum 2 sehingga didapatkan akurasi testing lebih dari 80%.\n",
        "\n",
        "- Buatlah model CNN untuk klasifikasi dataset MNIST."
      ],
      "metadata": {
        "id": "WLEvnAm0PFnz"
      }
    },
    {
      "cell_type": "markdown",
      "source": [
        "**Jawab**"
      ],
      "metadata": {
        "id": "3-oFQAoTPOjo"
      }
    }
  ]
}