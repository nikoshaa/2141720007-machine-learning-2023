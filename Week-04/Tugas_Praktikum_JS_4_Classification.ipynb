{
 "cells": [
  {
   "cell_type": "markdown",
   "metadata": {},
   "source": [
    "**Tugas Praktikum**\n",
    "\n",
    "Wildan Hafidz Mauludin\n",
    "\n",
    "2141720007\n",
    "\n",
    "1. Buatlah model klasifikasi dengan menggunakan SVM untuk data suara, ```voice.csv```. \n",
    "2. Buatlah model klasfikasi Multinomial Naive Bayes dengan ketentuan,\n",
    "    1. Menggunakan data ```spam.csv```\n",
    "    2. Fitur ```CountVectorizer``` dengan mengaktifkan **stop_words**\n",
    "    3. Evaluasi hasilnya  \n",
    "3. Buatlah model klasfikasi Multinomial Naive Bayes dengan ketentuan,\n",
    "    1. Menggunakan data ```spam.csv```\n",
    "    2. Fitur ```TF-IDF``` dengan mengaktifkan stop_words\n",
    "    3. Evaluasi hasilnya dan bandingkan dengan hasil pada Tugas no 2.\n",
    "    4. Berikan kesimpulan fitur mana yang terbaik pada kasus data ```spam.csv```"
   ]
  }
 ],
 "metadata": {
  "kernelspec": {
   "display_name": "Python 3.7.6 ('base')",
   "language": "python",
   "name": "python3"
  },
  "language_info": {
   "codemirror_mode": {
    "name": "ipython",
    "version": 3
   },
   "file_extension": ".py",
   "mimetype": "text/x-python",
   "name": "python",
   "nbconvert_exporter": "python",
   "pygments_lexer": "ipython3",
   "version": "3.11.4"
  },
  "orig_nbformat": 4,
  "vscode": {
   "interpreter": {
    "hash": "7e96b86f03d7d42bb76aac26192874394f42efe9d96b48d22368bab7dabddb55"
   }
  }
 },
 "nbformat": 4,
 "nbformat_minor": 2
}
