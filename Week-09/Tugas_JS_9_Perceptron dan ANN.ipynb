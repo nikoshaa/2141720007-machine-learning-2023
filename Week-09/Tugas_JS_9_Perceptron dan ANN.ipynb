{
  "cells": [
    {
      "cell_type": "markdown",
      "metadata": {
        "id": "G3lL-vKnN4Tw"
      },
      "source": [
        "# Tugas\n",
        "- Lakukan klasifikasi pada data MNIST dengan menggunakan model ANN\n",
        "- Anda diperbolehkan melakukan eksplorasi terhadap,\n",
        " - Metode pra pengolahan\n",
        " - Pemilihan fitur\n",
        " - Arsitektur ANN\n",
        " - Fungsi Aktiviasi\n",
        "- ANN diimplementasikan dengan menggunakan tensorflow.\n",
        "- **DIKERJAKAN SECARA BERKELOMPOK**\n",
        "- **JELASKAN HASIL YANG ANDA DAPATKAN,**\n",
        " - **AKURASI**\n",
        " - **CONFUSION MATRIX**\n",
        " - **KONFIGURASI MODEL --> MULAI DARI PRA PENGOLAHAN SAMPAI ARSITEKTUR ANN**"
      ]
    },
    {
      "cell_type": "code",
      "execution_count": null,
      "metadata": {
        "id": "UpuxtgW3OrE7"
      },
      "outputs": [],
      "source": [
        "import numpy as np\n",
        "import tensorflow as tf\n",
        "from tensorflow.keras import layers, models\n",
        "from tensorflow.keras.datasets import mnist\n",
        "from sklearn.decomposition import PCA\n",
        "from sklearn.preprocessing import StandardScaler\n",
        "from sklearn.metrics import confusion_matrix\n",
        "import matplotlib.pyplot as plt\n",
        "import seaborn as sns"
      ]
    },
    {
      "cell_type": "markdown",
      "metadata": {
        "id": "u_4Zf8CTWlii"
      },
      "source": [
        "## Load data MNIST"
      ]
    },
    {
      "cell_type": "code",
      "execution_count": null,
      "metadata": {
        "id": "KCKKytkRWfhq"
      },
      "outputs": [],
      "source": [
        "(x_train, y_train), (x_test, y_test) = mnist.load_data()\n",
        "x_train = x_train / 255.0\n",
        "x_test = x_test / 255.0"
      ]
    },
    {
      "cell_type": "markdown",
      "metadata": {
        "id": "g6tVKn-azNLn"
      },
      "source": [
        "##  Menghitung jumlah data pada setiap label dalam data pelatihan (y_train) dan data pengujian (y_test)"
      ]
    },
    {
      "cell_type": "code",
      "execution_count": null,
      "metadata": {
        "colab": {
          "base_uri": "https://localhost:8080/"
        },
        "id": "1dwmAvZtyIJI",
        "outputId": "6aabbe53-5c6d-4c88-e238-b8b959af574a"
      },
      "outputs": [
        {
          "name": "stdout",
          "output_type": "stream",
          "text": [
            "Label 0: 5923 data\n",
            "Label 1: 6742 data\n",
            "Label 2: 5958 data\n",
            "Label 3: 6131 data\n",
            "Label 4: 5842 data\n",
            "Label 5: 5421 data\n",
            "Label 6: 5918 data\n",
            "Label 7: 6265 data\n",
            "Label 8: 5851 data\n",
            "Label 9: 5949 data\n",
            "Label 0: 980 data (Test set)\n",
            "Label 1: 1135 data (Test set)\n",
            "Label 2: 1032 data (Test set)\n",
            "Label 3: 1010 data (Test set)\n",
            "Label 4: 982 data (Test set)\n",
            "Label 5: 892 data (Test set)\n",
            "Label 6: 958 data (Test set)\n",
            "Label 7: 1028 data (Test set)\n",
            "Label 8: 974 data (Test set)\n",
            "Label 9: 1009 data (Test set)\n"
          ]
        }
      ],
      "source": [
        "from collections import Counter\n",
        "\n",
        "# Count the number of data for each label in the training set\n",
        "label_counts = Counter(y_train)\n",
        "\n",
        "# Sort the counts by label\n",
        "sorted_label_counts = sorted(label_counts.items(), key=lambda x: x[0])\n",
        "\n",
        "# Print the counts for each label in order\n",
        "for label, count in sorted_label_counts:\n",
        "    print(f\"Label {label}: {count} data\")\n",
        "\n",
        "# Optionally, you can do the same for the test set\n",
        "test_label_counts = Counter(y_test)\n",
        "sorted_test_label_counts = sorted(test_label_counts.items(), key=lambda x: x[0])\n",
        "for label, count in sorted_test_label_counts:\n",
        "    print(f\"Label {label}: {count} data (Test set)\")"
      ]
    },
    {
      "cell_type": "markdown",
      "metadata": {
        "id": "Cr1EJxC2qIvp"
      },
      "source": [
        "## Pra-pemrosesan data"
      ]
    },
    {
      "cell_type": "code",
      "execution_count": null,
      "metadata": {
        "id": "GIu8tsYBqLvV"
      },
      "outputs": [],
      "source": [
        "# Flatten the images for PCA\n",
        "x_train_flat = x_train.reshape(-1, 784)\n",
        "x_test_flat = x_test.reshape(-1, 784)"
      ]
    },
    {
      "cell_type": "markdown",
      "metadata": {
        "id": "vhTEAZCbqnG1"
      },
      "source": [
        "## Ekstraksi data dengan PCA"
      ]
    },
    {
      "cell_type": "code",
      "execution_count": null,
      "metadata": {
        "id": "QUkVb1Duqo58"
      },
      "outputs": [],
      "source": [
        "# Perform PCA to reduce dimensionality\n",
        "n_components = 200  # Adjusted the number to match the encoding dimension\n",
        "pca = PCA(n_components=n_components)\n",
        "x_train_pca = pca.fit_transform(x_train_flat)\n",
        "x_test_pca = pca.transform(x_test_flat)"
      ]
    },
    {
      "cell_type": "markdown",
      "metadata": {
        "id": "CrjwLtp7rBTs"
      },
      "source": [
        "## Encoding Data dengan Autoencoder\n",
        "\n"
      ]
    },
    {
      "cell_type": "code",
      "execution_count": null,
      "metadata": {
        "colab": {
          "base_uri": "https://localhost:8080/"
        },
        "id": "nbntVwhPrEXe",
        "outputId": "4eb422aa-12c8-4655-d9b9-6e6bf6e361f9"
      },
      "outputs": [
        {
          "name": "stdout",
          "output_type": "stream",
          "text": [
            "Epoch 1/10\n",
            "235/235 [==============================] - 2s 7ms/step - loss: 0.1752\n",
            "Epoch 2/10\n",
            "235/235 [==============================] - 2s 10ms/step - loss: 0.1523\n",
            "Epoch 3/10\n",
            "235/235 [==============================] - 2s 8ms/step - loss: 0.1491\n",
            "Epoch 4/10\n",
            "235/235 [==============================] - 2s 7ms/step - loss: 0.1482\n",
            "Epoch 5/10\n",
            "235/235 [==============================] - 2s 7ms/step - loss: 0.1478\n",
            "Epoch 6/10\n",
            "235/235 [==============================] - 2s 6ms/step - loss: 0.1477\n",
            "Epoch 7/10\n",
            "235/235 [==============================] - 1s 6ms/step - loss: 0.1477\n",
            "Epoch 8/10\n",
            "235/235 [==============================] - 2s 7ms/step - loss: 0.1477\n",
            "Epoch 9/10\n",
            "235/235 [==============================] - 2s 6ms/step - loss: 0.1477\n",
            "Epoch 10/10\n",
            "235/235 [==============================] - 2s 10ms/step - loss: 0.1477\n",
            "1875/1875 [==============================] - 3s 2ms/step\n",
            "313/313 [==============================] - 1s 2ms/step\n"
          ]
        }
      ],
      "source": [
        "# Define the Autoencoder for encoding\n",
        "autoencoder = models.Sequential([\n",
        "    layers.Input(shape=(784,)),  # Input dimension matches the data\n",
        "    layers.Dense(128, activation='relu'),\n",
        "    layers.Dense(n_components, activation='relu')  # Output dimension matches the encoding dimension\n",
        "])\n",
        "\n",
        "autoencoder.compile(optimizer='adam', loss='mean_squared_error')\n",
        "\n",
        "# Train the Autoencoder\n",
        "autoencoder.fit(x_train_flat, x_train_pca, epochs=10, batch_size=256, shuffle=True)\n",
        "\n",
        "# Get the encoded representations\n",
        "encoded_train = autoencoder.predict(x_train_flat)\n",
        "encoded_test = autoencoder.predict(x_test_flat)"
      ]
    },
    {
      "cell_type": "markdown",
      "metadata": {
        "id": "fZ79ruVOt9Do"
      },
      "source": [
        "## Membuat model ANN"
      ]
    },
    {
      "cell_type": "code",
      "execution_count": null,
      "metadata": {
        "id": "MlolBGK9t_XO"
      },
      "outputs": [],
      "source": [
        "# Define the ANN for classification\n",
        "model = models.Sequential([\n",
        "    layers.Input(shape=(n_components,)),\n",
        "    layers.Dense(128, activation='relu'),\n",
        "    layers.Dense(64, activation='relu'),\n",
        "    layers.Dense(10, activation='softmax')\n",
        "])"
      ]
    },
    {
      "cell_type": "markdown",
      "metadata": {
        "id": "Pf1ot3RyuIxx"
      },
      "source": [
        "# Training model"
      ]
    },
    {
      "cell_type": "markdown",
      "metadata": {
        "id": "7EGqdsRPuLfx"
      },
      "source": [
        "## Compile model"
      ]
    },
    {
      "cell_type": "code",
      "execution_count": null,
      "metadata": {
        "id": "pIIBGEQMuNO7"
      },
      "outputs": [],
      "source": [
        "model.compile(optimizer='adam', loss='sparse_categorical_crossentropy', metrics=['accuracy'])"
      ]
    },
    {
      "cell_type": "markdown",
      "metadata": {
        "id": "za1sIhd-uA1-"
      },
      "source": [
        "## Fitting model"
      ]
    },
    {
      "cell_type": "code",
      "execution_count": null,
      "metadata": {
        "colab": {
          "base_uri": "https://localhost:8080/"
        },
        "id": "8N3RXqChufZu",
        "outputId": "17c6f7b1-1928-4287-f809-a4a5a21aab19"
      },
      "outputs": [
        {
          "name": "stdout",
          "output_type": "stream",
          "text": [
            "Epoch 1/10\n",
            "235/235 [==============================] - 2s 5ms/step - loss: 0.8271 - accuracy: 0.7635 - val_loss: 0.4558 - val_accuracy: 0.8634\n",
            "Epoch 2/10\n",
            "235/235 [==============================] - 1s 5ms/step - loss: 0.4219 - accuracy: 0.8731 - val_loss: 0.3552 - val_accuracy: 0.8905\n",
            "Epoch 3/10\n",
            "235/235 [==============================] - 1s 6ms/step - loss: 0.3405 - accuracy: 0.8974 - val_loss: 0.3006 - val_accuracy: 0.9094\n",
            "Epoch 4/10\n",
            "235/235 [==============================] - 2s 7ms/step - loss: 0.2914 - accuracy: 0.9116 - val_loss: 0.2688 - val_accuracy: 0.9172\n",
            "Epoch 5/10\n",
            "235/235 [==============================] - 1s 5ms/step - loss: 0.2566 - accuracy: 0.9222 - val_loss: 0.2377 - val_accuracy: 0.9257\n",
            "Epoch 6/10\n",
            "235/235 [==============================] - 1s 4ms/step - loss: 0.2306 - accuracy: 0.9316 - val_loss: 0.2230 - val_accuracy: 0.9316\n",
            "Epoch 7/10\n",
            "235/235 [==============================] - 1s 4ms/step - loss: 0.2107 - accuracy: 0.9366 - val_loss: 0.2129 - val_accuracy: 0.9352\n",
            "Epoch 8/10\n",
            "235/235 [==============================] - 1s 5ms/step - loss: 0.1965 - accuracy: 0.9402 - val_loss: 0.2007 - val_accuracy: 0.9368\n",
            "Epoch 9/10\n",
            "235/235 [==============================] - 1s 5ms/step - loss: 0.1823 - accuracy: 0.9447 - val_loss: 0.1907 - val_accuracy: 0.9435\n",
            "Epoch 10/10\n",
            "235/235 [==============================] - 1s 4ms/step - loss: 0.1729 - accuracy: 0.9473 - val_loss: 0.1880 - val_accuracy: 0.9410\n"
          ]
        },
        {
          "data": {
            "text/plain": [
              "<keras.src.callbacks.History at 0x78224fa1cf10>"
            ]
          },
          "execution_count": 30,
          "metadata": {},
          "output_type": "execute_result"
        }
      ],
      "source": [
        "# Train the ANN\n",
        "model.fit(encoded_train, y_train, epochs=10, batch_size=256, validation_data=(encoded_test, y_test))"
      ]
    },
    {
      "cell_type": "markdown",
      "metadata": {
        "id": "0qcMYYtuv1KD"
      },
      "source": [
        "## Evaluasi model"
      ]
    },
    {
      "cell_type": "code",
      "execution_count": null,
      "metadata": {
        "colab": {
          "base_uri": "https://localhost:8080/"
        },
        "id": "NGM8-PDNv27q",
        "outputId": "0f92a528-dd01-4a33-b58f-fe546a1f9ca1"
      },
      "outputs": [
        {
          "name": "stdout",
          "output_type": "stream",
          "text": [
            "313/313 [==============================] - 1s 2ms/step - loss: 0.1880 - accuracy: 0.9410\n",
            "Test accuracy: 0.9409999847412109\n"
          ]
        }
      ],
      "source": [
        "# Evaluate the model\n",
        "test_loss, test_acc = model.evaluate(encoded_test, y_test)\n",
        "print(f'Test accuracy: {test_acc}')"
      ]
    },
    {
      "cell_type": "markdown",
      "metadata": {
        "id": "AF2DxLluv7Hp"
      },
      "source": [
        "Pada kode tersebut model yang telah dilatih dievaluasi pada data pengujian. Evaluasi dilakukan untuk mengukur kinerja model pada data yang belum pernah dilihat sebelumnya. Hasil dari evaluasi tersebut adalah nilai loss (test_loss) dan akurasi (test_acc) dari model pada data pengujian."
      ]
    },
    {
      "cell_type": "markdown",
      "metadata": {
        "id": "4pcZS9d1wHzC"
      },
      "source": [
        "## Prediksi"
      ]
    },
    {
      "cell_type": "code",
      "execution_count": null,
      "metadata": {
        "colab": {
          "base_uri": "https://localhost:8080/"
        },
        "id": "nGWzFm-0wJf3",
        "outputId": "1a89b55c-b3bb-4fe2-e008-70b46623f6ec"
      },
      "outputs": [
        {
          "name": "stdout",
          "output_type": "stream",
          "text": [
            "313/313 [==============================] - 1s 2ms/step\n"
          ]
        }
      ],
      "source": [
        "predictions = model.predict(encoded_test)"
      ]
    },
    {
      "cell_type": "markdown",
      "metadata": {
        "id": "IUu-_Mg4wMCa"
      },
      "source": [
        "Setelah model dievaluasi, model digunakan untuk membuat prediksi pada data pengujian (encoded_test). Hasil prediksi disimpan dalam variabel predictions."
      ]
    },
    {
      "cell_type": "markdown",
      "metadata": {
        "id": "1tPSY1tIwYQJ"
      },
      "source": [
        "## Confusion Matrix"
      ]
    },
    {
      "cell_type": "code",
      "execution_count": null,
      "metadata": {
        "colab": {
          "base_uri": "https://localhost:8080/",
          "height": 696
        },
        "id": "y9KN5Ojxwb5f",
        "outputId": "ca25a1e2-7840-4235-f37c-9754799aff0e"
      },
      "outputs": [
        {
          "data": {
            "image/png": "[encoded data removed]",
            "text/plain": [
              "<Figure size 1000x800 with 2 Axes>"
            ]
          },
          "metadata": {},
          "output_type": "display_data"
        }
      ],
      "source": [
        "# Plot the confusion matrix\n",
        "plt.figure(figsize=(10, 8))\n",
        "sns.heatmap(confusion, annot=True, fmt='d', cmap='Blues')\n",
        "plt.xlabel('Predicted')\n",
        "plt.ylabel('Actual')\n",
        "plt.show()"
      ]
    },
    {
      "cell_type": "markdown",
      "metadata": {
        "id": "-L7mU1F6xIH_"
      },
      "source": [
        "## Visualisasi Hasil Prediksi"
      ]
    },
    {
      "cell_type": "code",
      "execution_count": null,
      "metadata": {
        "colab": {
          "base_uri": "https://localhost:8080/",
          "height": 576
        },
        "id": "6l56_owKWBWL",
        "outputId": "371800ad-40ed-4e9b-eedf-4aab8722f7dc"
      },
      "outputs": [
        {
          "data": {
            "image/png": "[encoded data removed]",
            "text/plain": [
              "<Figure size 1200x800 with 10 Axes>"
            ]
          },
          "metadata": {},
          "output_type": "display_data"
        }
      ],
      "source": [
        "# Select 10 random indices from the test set\n",
        "random_indices = np.random.choice(x_test.shape[0], 10, replace=False)\n",
        "\n",
        "# Get the original images, true labels, and predicted labels\n",
        "original_images = x_test[random_indices]\n",
        "true_labels = y_test[random_indices]\n",
        "predicted_labels = np.argmax(predictions, axis=1)\n",
        "\n",
        "# Create a grid of 10 images with their true labels and predicted labels\n",
        "plt.figure(figsize=(12, 8))\n",
        "for i in range(10):\n",
        "    plt.subplot(2, 5, i + 1)\n",
        "    plt.imshow(original_images[i], cmap='gray')\n",
        "    plt.title(f\"True: {true_labels[i]}\\nPredicted: {predicted_labels[random_indices[i]]}\")\n",
        "    plt.axis('off')\n",
        "plt.show()"
      ]
    }
  ],
  "metadata": {
    "colab": {
      "provenance": []
    },
    "kernelspec": {
      "display_name": "Python 3",
      "name": "python3"
    },
    "language_info": {
      "name": "python"
    }
  },
  "nbformat": 4,
  "nbformat_minor": 0
}
